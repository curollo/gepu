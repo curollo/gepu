{
 "cells": [
  {
   "cell_type": "code",
   "execution_count": 1,
   "metadata": {},
   "outputs": [],
   "source": [
    "import numpy as np\n",
    "import random\n",
    "import torch\n",
    "import copy\n",
    "device = torch.device(\"cuda:0\" if torch.cuda.is_available() else \"cpu\")"
   ]
  },
  {
   "cell_type": "code",
   "execution_count": 2,
   "metadata": {},
   "outputs": [],
   "source": [
    "class PrimitiveSet:\n",
    "    def __init__(self):\n",
    "        self.functions = []\n",
    "        self.terminals = []\n",
    "    \n",
    "    def add_function(self, function, arity):\n",
    "        self.functions.append(Function(function, arity))\n",
    "    \n",
    "    def add_terminal(self, variable):\n",
    "        self.terminals.append(Terminal(variable))\n",
    "    \n",
    "    def choose_function(self):\n",
    "        return np.random.choice(self.functions)\n",
    "    \n",
    "    def choose_terminal(self):\n",
    "        return np.random.choice(self.terminals)\n",
    "#        if np.random.random() < 0.5 or not self.terminals:\n",
    "#            return Terminal(np.random.random())\n",
    "#        else:\n",
    "#            return np.random.choice(self.terminals)\n",
    "\n",
    "class Function:\n",
    "    def __init__(self, func, arity):\n",
    "        self.func = func\n",
    "        self.arity = arity\n",
    "    \n",
    "    def format(self, *args):\n",
    "        args = args[:self.arity]\n",
    "        return (self.func.__name__ + '(' + ', '.join(map(str, args)) + ')')\n",
    "\n",
    "    def __str__(self):\n",
    "        return self.func.__name__\n",
    "\n",
    "    def __repr__(self):\n",
    "        return self.func.__name__\n",
    "\n",
    "class Terminal:\n",
    "    def __init__(self, value):\n",
    "        self.value = value\n",
    "        self.arity = 0\n",
    "    \n",
    "    def format(self):\n",
    "        return str(self.value)\n",
    "    \n",
    "    def __str__(self):\n",
    "        if isinstance(self.value, str):\n",
    "            return self.value\n",
    "        else:\n",
    "            return str(round(self.value, 3))\n",
    "\n",
    "    def __repr__(self):\n",
    "        if isinstance(self.value, str):\n",
    "            return self.value\n",
    "        else:\n",
    "            return str(round(self.value, 3))\n"
   ]
  },
  {
   "cell_type": "code",
   "execution_count": null,
   "metadata": {},
   "outputs": [],
   "source": [
    "def add(x, y):\n",
    "    return np.add(x, y)\n",
    "\n",
    "def sub(x, y):\n",
    "    return np.subtract(x, y)\n",
    "\n",
    "def mul(x, y):\n",
    "    return np.multiply(x, y)"
   ]
  },
  {
   "cell_type": "code",
   "execution_count": 3,
   "metadata": {},
   "outputs": [],
   "source": [
    "def add(x, y):\n",
    "    return torch.add(x, y)\n",
    "\n",
    "def mul(x, y):\n",
    "    return torch.multiply(x, y)"
   ]
  },
  {
   "cell_type": "code",
   "execution_count": 4,
   "metadata": {},
   "outputs": [],
   "source": [
    "arity = 2\n",
    "head_length = 2\n",
    "\n",
    "pset = PrimitiveSet()\n",
    "pset.add_function(add, arity)\n",
    "pset.add_function(mul, arity)\n",
    "pset.add_terminal('a')\n",
    "pset.add_terminal('b')\n",
    "pset.add_terminal('c')"
   ]
  },
  {
   "cell_type": "code",
   "execution_count": 5,
   "metadata": {},
   "outputs": [],
   "source": [
    "def generate_genome(pset, head_length):\n",
    "    functions = pset.functions\n",
    "    tail_length = head_length * (arity - 1) + 1\n",
    "    #genome = [None] * (head_length + tail_length) # init genome\n",
    "    genome = [pset.choose_function()] * (head_length + tail_length) # init genome\n",
    "\n",
    "    # gen head part (functions and terminals)\n",
    "    for i in range(1, head_length):\n",
    "        if np.random.random() < 0.5:\n",
    "            genome[i] = pset.choose_function()\n",
    "        else:\n",
    "            genome[i] = pset.choose_terminal()\n",
    "    # gen tail part (only terminals)\n",
    "    for i in range(head_length, head_length + tail_length):\n",
    "        genome[i] = pset.choose_terminal()\n",
    "    return genome"
   ]
  },
  {
   "cell_type": "code",
   "execution_count": 6,
   "metadata": {},
   "outputs": [
    {
     "data": {
      "text/plain": [
       "[mul, c, mul, c, c, a, c]"
      ]
     },
     "execution_count": 6,
     "metadata": {},
     "output_type": "execute_result"
    }
   ],
   "source": [
    "genome = generate_genome(pset, 3)\n",
    "genome"
   ]
  },
  {
   "cell_type": "code",
   "execution_count": 7,
   "metadata": {},
   "outputs": [],
   "source": [
    "def get_kexpression(genome):\n",
    "    expr = [genome[0]]\n",
    "    i = 0\n",
    "    j = 1\n",
    "    while i < len(expr):\n",
    "        for _ in range(genome[i].arity):\n",
    "            expr.append(genome[j])\n",
    "            j += 1\n",
    "        i += 1\n",
    "    return expr"
   ]
  },
  {
   "cell_type": "code",
   "execution_count": 8,
   "metadata": {},
   "outputs": [
    {
     "data": {
      "text/plain": [
       "[mul, c, mul, c, c]"
      ]
     },
     "execution_count": 8,
     "metadata": {},
     "output_type": "execute_result"
    }
   ],
   "source": [
    "kexpr = get_kexpression(genome)\n",
    "kexpr"
   ]
  },
  {
   "cell_type": "code",
   "execution_count": 9,
   "metadata": {},
   "outputs": [
    {
     "data": {
      "text/plain": [
       "'mul(c, mul(c, c))'"
      ]
     },
     "execution_count": 9,
     "metadata": {},
     "output_type": "execute_result"
    }
   ],
   "source": [
    "arity = 2\n",
    "kexpr = get_kexpression(genome)\n",
    "i = len(kexpr) - 1 \n",
    "while i >= 0:\n",
    "    if kexpr[i].arity > 0:\n",
    "        args = []\n",
    "\n",
    "        for _ in range(kexpr[i].arity):\n",
    "            element = kexpr.pop()\n",
    "            if isinstance(element, str):\n",
    "                args.append(element)\n",
    "            else:\n",
    "                args.append(element.format())\n",
    "\n",
    "        kexpr[i] = kexpr[i].format(*reversed(args))\n",
    "    i -= 1\n",
    "kexpr[0] if isinstance(kexpr[0], str) else kexpr[0].format()"
   ]
  },
  {
   "cell_type": "code",
   "execution_count": 10,
   "metadata": {},
   "outputs": [],
   "source": [
    "import pandas as pd\n",
    "\n",
    "df_size = 1000\n",
    "df = {'a': np.random.rand(df_size),\n",
    "        'b': np.random.rand(df_size),\n",
    "        'c': np.random.rand(df_size)}\n",
    "df['y']= 2*df['a'] + 3*df['b'] + 4*df['c'] + np.random.rand(df_size)\n",
    "\n",
    "df = pd.DataFrame(df)"
   ]
  },
  {
   "cell_type": "code",
   "execution_count": 11,
   "metadata": {},
   "outputs": [],
   "source": [
    "a = torch.from_numpy(df.a.values).float().to(device)\n",
    "b = torch.from_numpy(df.b.values).float().to(device)\n",
    "c = torch.from_numpy(df.c.values).float().to(device)\n",
    "target = torch.from_numpy(df.y.values).float().to(device)"
   ]
  },
  {
   "cell_type": "code",
   "execution_count": 12,
   "metadata": {},
   "outputs": [
    {
     "data": {
      "text/plain": [
       "tensor([1.6027e-02, 6.4661e-07, 6.5229e-01, 1.6837e-01, 5.7881e-01, 4.6790e-04,\n",
       "        6.1263e-04, 2.2417e-01, 3.4069e-01, 1.0351e-01], device='cuda:0')"
      ]
     },
     "execution_count": 12,
     "metadata": {},
     "output_type": "execute_result"
    }
   ],
   "source": [
    "eval(kexpr[0])"
   ]
  },
  {
   "cell_type": "code",
   "execution_count": null,
   "metadata": {},
   "outputs": [],
   "source": [
    "guess = eval(kexpr[0])\n",
    "\n",
    "error = np.sum(np.power(guess - df.y / df.y, 2))\n",
    "mape = 1000 * (1 / (1 + (error) / df.size))"
   ]
  },
  {
   "cell_type": "code",
   "execution_count": 13,
   "metadata": {},
   "outputs": [
    {
     "data": {
      "text/plain": [
       "810.1773681640625"
      ]
     },
     "execution_count": 13,
     "metadata": {},
     "output_type": "execute_result"
    }
   ],
   "source": [
    "guess = eval(kexpr[0])\n",
    "error = torch.square((guess - target) / target)\n",
    "error = error.sum()\n",
    "torch_mape = 1000 * (1 / (1 + (error / df.size)))\n",
    "torch_mape.item()"
   ]
  },
  {
   "cell_type": "code",
   "execution_count": 14,
   "metadata": {},
   "outputs": [
    {
     "data": {
      "text/plain": [
       "[[add, add, a, a, c, b, a, a, c],\n",
       " [mul, add, add, b, b, b, c, b, b],\n",
       " [add, add, add, c, a, b, a, a, b],\n",
       " [add, mul, mul, add, c, b, a, a, b],\n",
       " [add, add, add, b, c, b, c, a, a]]"
      ]
     },
     "execution_count": 14,
     "metadata": {},
     "output_type": "execute_result"
    }
   ],
   "source": [
    "pop = [generate_genome(pset, 4) for _ in range(5)]\n",
    "pop"
   ]
  },
  {
   "cell_type": "code",
   "execution_count": 15,
   "metadata": {},
   "outputs": [],
   "source": [
    "import random\n",
    "def random_select(population): return random.sample(pop, np.random.randint(1, len(pop)))"
   ]
  },
  {
   "cell_type": "code",
   "execution_count": 16,
   "metadata": {},
   "outputs": [
    {
     "data": {
      "text/plain": [
       "[[add, add, a, a, c, b, a, a, c], [add, mul, mul, add, c, b, a, a, b]]"
      ]
     },
     "execution_count": 16,
     "metadata": {},
     "output_type": "execute_result"
    }
   ],
   "source": [
    "selected_pop = random_select(pop)\n",
    "selected_pop"
   ]
  },
  {
   "cell_type": "code",
   "execution_count": 17,
   "metadata": {},
   "outputs": [],
   "source": [
    "def mutate(population, mutations_per_individual=2):\n",
    "    tail_length = head_length * (arity - 1) + 1\n",
    "    for individual in population:\n",
    "        for _ in range(mutations_per_individual):\n",
    "            mutation_index = random.randint(0, head_length + tail_length - 1)\n",
    "            if mutation_index < head_length:\n",
    "                # mutate function in head\n",
    "                if random.random() < 0.5:\n",
    "                    individual[mutation_index] = random.choice(pset.functions)\n",
    "                else:\n",
    "                    individual[mutation_index] = Terminal(random.random())\n",
    "            else:\n",
    "                # mutate terminals in tail\n",
    "                individual[mutation_index] = Terminal(random.random())"
   ]
  },
  {
   "cell_type": "code",
   "execution_count": 18,
   "metadata": {},
   "outputs": [
    {
     "data": {
      "text/plain": [
       "[[add, add, 0.027, a, c, b, a, a, c], [add, mul, mul, 0.958, c, b, a, a, b]]"
      ]
     },
     "execution_count": 18,
     "metadata": {},
     "output_type": "execute_result"
    }
   ],
   "source": [
    "mutate(selected_pop)\n",
    "genome = selected_pop\n",
    "genome"
   ]
  },
  {
   "cell_type": "code",
   "execution_count": 38,
   "metadata": {},
   "outputs": [],
   "source": [
    "class Gene:\n",
    "    def __init__(self, pset, head_length):\n",
    "        self._head_length = head_length\n",
    "        self.genome = generate_genome(pset, head_length)\n",
    "\n",
    "    def get_kexpression(self):\n",
    "        genome = self.genome\n",
    "        expr = [genome[0]]\n",
    "        i = 0\n",
    "        j = 1\n",
    "        while i < len(expr):\n",
    "            for _ in range(genome[i].arity):\n",
    "                expr.append(genome[j])\n",
    "                j += 1\n",
    "            i += 1\n",
    "        return expr\n",
    "\n",
    "    def __str__(self):\n",
    "        kexpr = self.get_kexpression()\n",
    "        i = len(kexpr) - 1 # start by the last item in tree\n",
    "        while i >= 0:\n",
    "            # if the item is a function\n",
    "            if kexpr[i].arity > 0:\n",
    "                args = []\n",
    "\n",
    "                for _ in range(kexpr[i].arity):\n",
    "                    element = kexpr.pop() # remove last element\n",
    "                    if isinstance(element, str):\n",
    "                        # append to the args of the current function item\n",
    "                        args.append(element)\n",
    "                    else:\n",
    "                        # append terminal to the args of the current function item\n",
    "                        args.append(element.format())\n",
    "                # when all args for this function has been acquired, format\n",
    "                kexpr[i] = kexpr[i].format(*reversed(args))\n",
    "            i -= 1\n",
    "        # return formatted root\n",
    "        return kexpr[0] if isinstance(kexpr[0], str) else kexpr[0].format()\n",
    "\n",
    "class Population:\n",
    "    def __init__(self):\n",
    "        self.individuals = None\n",
    "        self.n = None\n",
    "        self.pset = None\n",
    "        self.head_length = None\n",
    "\n",
    "    def generate(self, n, pset, head_length):\n",
    "        self.individuals = [Gene(pset, head_length) for _ in range(n)]\n",
    "        self.n = n\n",
    "        self.pset = pset\n",
    "        self.head_length = head_length\n",
    "\n",
    "def random_select(population):\n",
    "    # random selection of individuals\n",
    "    selected_individuals = random.sample(population.individuals, population.n)\n",
    "    selected_individuals = [copy.deepcopy(individual) for individual in selected_individuals]\n",
    "\n",
    "    selected_population = Population()\n",
    "    selected_population.individuals = selected_individuals\n",
    "    selected_population.n = population.n\n",
    "    selected_population.pset = population.pset\n",
    "    selected_population.head_length = population.head_length\n",
    "    return(selected_population)\n",
    "\n",
    "def mutate(population, mutations_per_individual=2):\n",
    "    # Basic mutation of primitives\n",
    "    pset = population.pset\n",
    "    head_length = population.head_length\n",
    "    arity = 2\n",
    "    tail_length = head_length * (arity - 1) + 1\n",
    "    for individual in population.individuals:\n",
    "        for _ in range(mutations_per_individual):\n",
    "            mutation_index = random.randint(0, head_length + tail_length - 1)\n",
    "            if mutation_index < head_length:\n",
    "                # mutate function or terminals in head\n",
    "                if random.random() < 0.5:\n",
    "                    individual.genome[mutation_index] = random.choice(pset.functions)\n",
    "                else:\n",
    "                    #individual.genome[mutation_index] = Terminal(random.random())\n",
    "                    individual.genome[mutation_index] = random.choice(pset.terminals)\n",
    "            else:\n",
    "                # mutate terminals in tail\n",
    "                #individual.genome[mutation_index] = Terminal(random.random())\n",
    "                individual.genome[mutation_index] = random.choice(pset.terminals)"
   ]
  },
  {
   "cell_type": "code",
   "execution_count": 24,
   "metadata": {},
   "outputs": [],
   "source": [
    "population = Population()\n",
    "population.generate(5, pset, 5)"
   ]
  },
  {
   "cell_type": "code",
   "execution_count": 25,
   "metadata": {},
   "outputs": [],
   "source": [
    "def get_next_generation(population):\n",
    "    # user evaluates fitness\n",
    "    selected_population = random_select(population)\n",
    "    mutate(selected_population)\n",
    "    return selected_population"
   ]
  },
  {
   "cell_type": "code",
   "execution_count": 26,
   "metadata": {},
   "outputs": [
    {
     "name": "stdout",
     "output_type": "stream",
     "text": [
      "0 [mul, a, add, c, mul, c, b, b, b, a, a]\n",
      "1 [mul, b, a, c, add, a, b, c, c, b, a]\n",
      "2 [add, b, mul, a, b, c, a, c, c, c, b]\n",
      "3 [add, mul, add, c, c, c, b, c, b, a, a]\n",
      "4 [add, c, mul, mul, a, a, a, a, a, c, b]\n"
     ]
    }
   ],
   "source": [
    "for i, individual in enumerate(population.individuals):\n",
    "    print(i, individual.genome)"
   ]
  },
  {
   "cell_type": "code",
   "execution_count": 23,
   "metadata": {},
   "outputs": [
    {
     "name": "stdout",
     "output_type": "stream",
     "text": [
      "0 [0.341, 0.854, a, add, a, a, b, b, a, c, b]\n",
      "1 [add, b, c, a, mul, c, 0.533, 0.992, c, b, b]\n",
      "2 [add, mul, add, b, a, a, 0.982, 0.123, b, c, a]\n",
      "3 [add, b, mul, 0.005, c, c, b, b, 0.422, c, a]\n",
      "4 [add, b, mul, 0.901, b, a, a, a, a, a, b]\n"
     ]
    }
   ],
   "source": [
    "population = get_next_generation(population)\n",
    "for i, individual in enumerate(population.individuals):\n",
    "    print(i, individual.genome)"
   ]
  },
  {
   "cell_type": "code",
   "execution_count": 27,
   "metadata": {},
   "outputs": [
    {
     "data": {
      "text/plain": [
       "[[<function __main__.mul(x, y)>,\n",
       "  tensor([0.6171, 0.8551, 0.8125, 0.7154, 0.6965, 0.6765, 0.5041, 0.3204, 0.9392,\n",
       "          0.4133], device='cuda:0'),\n",
       "  <function __main__.add(x, y)>,\n",
       "  tensor([0.2521, 0.0086, 0.8673, 0.5522, 0.8334, 0.0776, 0.0849, 0.6075, 0.6984,\n",
       "          0.4695], device='cuda:0'),\n",
       "  <function __main__.mul(x, y)>,\n",
       "  tensor([0.2521, 0.0086, 0.8673, 0.5522, 0.8334, 0.0776, 0.0849, 0.6075, 0.6984,\n",
       "          0.4695], device='cuda:0'),\n",
       "  tensor([0.2480, 0.3000, 0.9896, 0.2821, 0.7421, 0.3497, 0.2687, 0.0339, 0.7433,\n",
       "          0.8214], device='cuda:0'),\n",
       "  tensor([0.2480, 0.3000, 0.9896, 0.2821, 0.7421, 0.3497, 0.2687, 0.0339, 0.7433,\n",
       "          0.8214], device='cuda:0'),\n",
       "  tensor([0.2480, 0.3000, 0.9896, 0.2821, 0.7421, 0.3497, 0.2687, 0.0339, 0.7433,\n",
       "          0.8214], device='cuda:0'),\n",
       "  tensor([0.6171, 0.8551, 0.8125, 0.7154, 0.6965, 0.6765, 0.5041, 0.3204, 0.9392,\n",
       "          0.4133], device='cuda:0'),\n",
       "  tensor([0.6171, 0.8551, 0.8125, 0.7154, 0.6965, 0.6765, 0.5041, 0.3204, 0.9392,\n",
       "          0.4133], device='cuda:0')],\n",
       " [<function __main__.mul(x, y)>,\n",
       "  tensor([0.2480, 0.3000, 0.9896, 0.2821, 0.7421, 0.3497, 0.2687, 0.0339, 0.7433,\n",
       "          0.8214], device='cuda:0'),\n",
       "  tensor([0.6171, 0.8551, 0.8125, 0.7154, 0.6965, 0.6765, 0.5041, 0.3204, 0.9392,\n",
       "          0.4133], device='cuda:0'),\n",
       "  tensor([0.2521, 0.0086, 0.8673, 0.5522, 0.8334, 0.0776, 0.0849, 0.6075, 0.6984,\n",
       "          0.4695], device='cuda:0'),\n",
       "  <function __main__.add(x, y)>,\n",
       "  tensor([0.6171, 0.8551, 0.8125, 0.7154, 0.6965, 0.6765, 0.5041, 0.3204, 0.9392,\n",
       "          0.4133], device='cuda:0'),\n",
       "  tensor([0.2480, 0.3000, 0.9896, 0.2821, 0.7421, 0.3497, 0.2687, 0.0339, 0.7433,\n",
       "          0.8214], device='cuda:0'),\n",
       "  tensor([0.2521, 0.0086, 0.8673, 0.5522, 0.8334, 0.0776, 0.0849, 0.6075, 0.6984,\n",
       "          0.4695], device='cuda:0'),\n",
       "  tensor([0.2521, 0.0086, 0.8673, 0.5522, 0.8334, 0.0776, 0.0849, 0.6075, 0.6984,\n",
       "          0.4695], device='cuda:0'),\n",
       "  tensor([0.2480, 0.3000, 0.9896, 0.2821, 0.7421, 0.3497, 0.2687, 0.0339, 0.7433,\n",
       "          0.8214], device='cuda:0'),\n",
       "  tensor([0.6171, 0.8551, 0.8125, 0.7154, 0.6965, 0.6765, 0.5041, 0.3204, 0.9392,\n",
       "          0.4133], device='cuda:0')],\n",
       " [<function __main__.add(x, y)>,\n",
       "  tensor([0.2480, 0.3000, 0.9896, 0.2821, 0.7421, 0.3497, 0.2687, 0.0339, 0.7433,\n",
       "          0.8214], device='cuda:0'),\n",
       "  <function __main__.mul(x, y)>,\n",
       "  tensor([0.6171, 0.8551, 0.8125, 0.7154, 0.6965, 0.6765, 0.5041, 0.3204, 0.9392,\n",
       "          0.4133], device='cuda:0'),\n",
       "  tensor([0.2480, 0.3000, 0.9896, 0.2821, 0.7421, 0.3497, 0.2687, 0.0339, 0.7433,\n",
       "          0.8214], device='cuda:0'),\n",
       "  tensor([0.2521, 0.0086, 0.8673, 0.5522, 0.8334, 0.0776, 0.0849, 0.6075, 0.6984,\n",
       "          0.4695], device='cuda:0'),\n",
       "  tensor([0.6171, 0.8551, 0.8125, 0.7154, 0.6965, 0.6765, 0.5041, 0.3204, 0.9392,\n",
       "          0.4133], device='cuda:0'),\n",
       "  tensor([0.2521, 0.0086, 0.8673, 0.5522, 0.8334, 0.0776, 0.0849, 0.6075, 0.6984,\n",
       "          0.4695], device='cuda:0'),\n",
       "  tensor([0.2521, 0.0086, 0.8673, 0.5522, 0.8334, 0.0776, 0.0849, 0.6075, 0.6984,\n",
       "          0.4695], device='cuda:0'),\n",
       "  tensor([0.2521, 0.0086, 0.8673, 0.5522, 0.8334, 0.0776, 0.0849, 0.6075, 0.6984,\n",
       "          0.4695], device='cuda:0'),\n",
       "  tensor([0.2480, 0.3000, 0.9896, 0.2821, 0.7421, 0.3497, 0.2687, 0.0339, 0.7433,\n",
       "          0.8214], device='cuda:0')],\n",
       " [<function __main__.add(x, y)>,\n",
       "  <function __main__.mul(x, y)>,\n",
       "  <function __main__.add(x, y)>,\n",
       "  tensor([0.2521, 0.0086, 0.8673, 0.5522, 0.8334, 0.0776, 0.0849, 0.6075, 0.6984,\n",
       "          0.4695], device='cuda:0'),\n",
       "  tensor([0.2521, 0.0086, 0.8673, 0.5522, 0.8334, 0.0776, 0.0849, 0.6075, 0.6984,\n",
       "          0.4695], device='cuda:0'),\n",
       "  tensor([0.2521, 0.0086, 0.8673, 0.5522, 0.8334, 0.0776, 0.0849, 0.6075, 0.6984,\n",
       "          0.4695], device='cuda:0'),\n",
       "  tensor([0.2480, 0.3000, 0.9896, 0.2821, 0.7421, 0.3497, 0.2687, 0.0339, 0.7433,\n",
       "          0.8214], device='cuda:0'),\n",
       "  tensor([0.2521, 0.0086, 0.8673, 0.5522, 0.8334, 0.0776, 0.0849, 0.6075, 0.6984,\n",
       "          0.4695], device='cuda:0'),\n",
       "  tensor([0.2480, 0.3000, 0.9896, 0.2821, 0.7421, 0.3497, 0.2687, 0.0339, 0.7433,\n",
       "          0.8214], device='cuda:0'),\n",
       "  tensor([0.6171, 0.8551, 0.8125, 0.7154, 0.6965, 0.6765, 0.5041, 0.3204, 0.9392,\n",
       "          0.4133], device='cuda:0'),\n",
       "  tensor([0.6171, 0.8551, 0.8125, 0.7154, 0.6965, 0.6765, 0.5041, 0.3204, 0.9392,\n",
       "          0.4133], device='cuda:0')],\n",
       " [<function __main__.add(x, y)>,\n",
       "  tensor([0.2521, 0.0086, 0.8673, 0.5522, 0.8334, 0.0776, 0.0849, 0.6075, 0.6984,\n",
       "          0.4695], device='cuda:0'),\n",
       "  <function __main__.mul(x, y)>,\n",
       "  <function __main__.mul(x, y)>,\n",
       "  tensor([0.6171, 0.8551, 0.8125, 0.7154, 0.6965, 0.6765, 0.5041, 0.3204, 0.9392,\n",
       "          0.4133], device='cuda:0'),\n",
       "  tensor([0.6171, 0.8551, 0.8125, 0.7154, 0.6965, 0.6765, 0.5041, 0.3204, 0.9392,\n",
       "          0.4133], device='cuda:0'),\n",
       "  tensor([0.6171, 0.8551, 0.8125, 0.7154, 0.6965, 0.6765, 0.5041, 0.3204, 0.9392,\n",
       "          0.4133], device='cuda:0'),\n",
       "  tensor([0.6171, 0.8551, 0.8125, 0.7154, 0.6965, 0.6765, 0.5041, 0.3204, 0.9392,\n",
       "          0.4133], device='cuda:0'),\n",
       "  tensor([0.6171, 0.8551, 0.8125, 0.7154, 0.6965, 0.6765, 0.5041, 0.3204, 0.9392,\n",
       "          0.4133], device='cuda:0'),\n",
       "  tensor([0.2521, 0.0086, 0.8673, 0.5522, 0.8334, 0.0776, 0.0849, 0.6075, 0.6984,\n",
       "          0.4695], device='cuda:0'),\n",
       "  tensor([0.2480, 0.3000, 0.9896, 0.2821, 0.7421, 0.3497, 0.2687, 0.0339, 0.7433,\n",
       "          0.8214], device='cuda:0')]]"
      ]
     },
     "execution_count": 27,
     "metadata": {},
     "output_type": "execute_result"
    }
   ],
   "source": [
    "evaluations = [eval(str(individual.genome)) for individual in population.individuals]\n",
    "evaluations"
   ]
  },
  {
   "cell_type": "code",
   "execution_count": 28,
   "metadata": {},
   "outputs": [],
   "source": [
    "tensor_list = [t for sublist in evaluations for t in sublist if isinstance(t, torch.Tensor)]"
   ]
  },
  {
   "cell_type": "code",
   "execution_count": 29,
   "metadata": {},
   "outputs": [],
   "source": [
    "stacked_tensor = torch.stack(tensor_list)"
   ]
  },
  {
   "cell_type": "code",
   "execution_count": 30,
   "metadata": {},
   "outputs": [
    {
     "data": {
      "text/plain": [
       "tensor([[0.6171, 0.8551, 0.8125, 0.7154, 0.6965, 0.6765, 0.5041, 0.3204, 0.9392,\n",
       "         0.4133],\n",
       "        [0.2521, 0.0086, 0.8673, 0.5522, 0.8334, 0.0776, 0.0849, 0.6075, 0.6984,\n",
       "         0.4695],\n",
       "        [0.2521, 0.0086, 0.8673, 0.5522, 0.8334, 0.0776, 0.0849, 0.6075, 0.6984,\n",
       "         0.4695],\n",
       "        [0.2480, 0.3000, 0.9896, 0.2821, 0.7421, 0.3497, 0.2687, 0.0339, 0.7433,\n",
       "         0.8214],\n",
       "        [0.2480, 0.3000, 0.9896, 0.2821, 0.7421, 0.3497, 0.2687, 0.0339, 0.7433,\n",
       "         0.8214],\n",
       "        [0.2480, 0.3000, 0.9896, 0.2821, 0.7421, 0.3497, 0.2687, 0.0339, 0.7433,\n",
       "         0.8214],\n",
       "        [0.6171, 0.8551, 0.8125, 0.7154, 0.6965, 0.6765, 0.5041, 0.3204, 0.9392,\n",
       "         0.4133],\n",
       "        [0.6171, 0.8551, 0.8125, 0.7154, 0.6965, 0.6765, 0.5041, 0.3204, 0.9392,\n",
       "         0.4133],\n",
       "        [0.2480, 0.3000, 0.9896, 0.2821, 0.7421, 0.3497, 0.2687, 0.0339, 0.7433,\n",
       "         0.8214],\n",
       "        [0.6171, 0.8551, 0.8125, 0.7154, 0.6965, 0.6765, 0.5041, 0.3204, 0.9392,\n",
       "         0.4133],\n",
       "        [0.2521, 0.0086, 0.8673, 0.5522, 0.8334, 0.0776, 0.0849, 0.6075, 0.6984,\n",
       "         0.4695],\n",
       "        [0.6171, 0.8551, 0.8125, 0.7154, 0.6965, 0.6765, 0.5041, 0.3204, 0.9392,\n",
       "         0.4133],\n",
       "        [0.2480, 0.3000, 0.9896, 0.2821, 0.7421, 0.3497, 0.2687, 0.0339, 0.7433,\n",
       "         0.8214],\n",
       "        [0.2521, 0.0086, 0.8673, 0.5522, 0.8334, 0.0776, 0.0849, 0.6075, 0.6984,\n",
       "         0.4695],\n",
       "        [0.2521, 0.0086, 0.8673, 0.5522, 0.8334, 0.0776, 0.0849, 0.6075, 0.6984,\n",
       "         0.4695],\n",
       "        [0.2480, 0.3000, 0.9896, 0.2821, 0.7421, 0.3497, 0.2687, 0.0339, 0.7433,\n",
       "         0.8214],\n",
       "        [0.6171, 0.8551, 0.8125, 0.7154, 0.6965, 0.6765, 0.5041, 0.3204, 0.9392,\n",
       "         0.4133],\n",
       "        [0.2480, 0.3000, 0.9896, 0.2821, 0.7421, 0.3497, 0.2687, 0.0339, 0.7433,\n",
       "         0.8214],\n",
       "        [0.6171, 0.8551, 0.8125, 0.7154, 0.6965, 0.6765, 0.5041, 0.3204, 0.9392,\n",
       "         0.4133],\n",
       "        [0.2480, 0.3000, 0.9896, 0.2821, 0.7421, 0.3497, 0.2687, 0.0339, 0.7433,\n",
       "         0.8214],\n",
       "        [0.2521, 0.0086, 0.8673, 0.5522, 0.8334, 0.0776, 0.0849, 0.6075, 0.6984,\n",
       "         0.4695],\n",
       "        [0.6171, 0.8551, 0.8125, 0.7154, 0.6965, 0.6765, 0.5041, 0.3204, 0.9392,\n",
       "         0.4133],\n",
       "        [0.2521, 0.0086, 0.8673, 0.5522, 0.8334, 0.0776, 0.0849, 0.6075, 0.6984,\n",
       "         0.4695],\n",
       "        [0.2521, 0.0086, 0.8673, 0.5522, 0.8334, 0.0776, 0.0849, 0.6075, 0.6984,\n",
       "         0.4695],\n",
       "        [0.2521, 0.0086, 0.8673, 0.5522, 0.8334, 0.0776, 0.0849, 0.6075, 0.6984,\n",
       "         0.4695],\n",
       "        [0.2480, 0.3000, 0.9896, 0.2821, 0.7421, 0.3497, 0.2687, 0.0339, 0.7433,\n",
       "         0.8214],\n",
       "        [0.2521, 0.0086, 0.8673, 0.5522, 0.8334, 0.0776, 0.0849, 0.6075, 0.6984,\n",
       "         0.4695],\n",
       "        [0.2521, 0.0086, 0.8673, 0.5522, 0.8334, 0.0776, 0.0849, 0.6075, 0.6984,\n",
       "         0.4695],\n",
       "        [0.2521, 0.0086, 0.8673, 0.5522, 0.8334, 0.0776, 0.0849, 0.6075, 0.6984,\n",
       "         0.4695],\n",
       "        [0.2480, 0.3000, 0.9896, 0.2821, 0.7421, 0.3497, 0.2687, 0.0339, 0.7433,\n",
       "         0.8214],\n",
       "        [0.2521, 0.0086, 0.8673, 0.5522, 0.8334, 0.0776, 0.0849, 0.6075, 0.6984,\n",
       "         0.4695],\n",
       "        [0.2480, 0.3000, 0.9896, 0.2821, 0.7421, 0.3497, 0.2687, 0.0339, 0.7433,\n",
       "         0.8214],\n",
       "        [0.6171, 0.8551, 0.8125, 0.7154, 0.6965, 0.6765, 0.5041, 0.3204, 0.9392,\n",
       "         0.4133],\n",
       "        [0.6171, 0.8551, 0.8125, 0.7154, 0.6965, 0.6765, 0.5041, 0.3204, 0.9392,\n",
       "         0.4133],\n",
       "        [0.2521, 0.0086, 0.8673, 0.5522, 0.8334, 0.0776, 0.0849, 0.6075, 0.6984,\n",
       "         0.4695],\n",
       "        [0.6171, 0.8551, 0.8125, 0.7154, 0.6965, 0.6765, 0.5041, 0.3204, 0.9392,\n",
       "         0.4133],\n",
       "        [0.6171, 0.8551, 0.8125, 0.7154, 0.6965, 0.6765, 0.5041, 0.3204, 0.9392,\n",
       "         0.4133],\n",
       "        [0.6171, 0.8551, 0.8125, 0.7154, 0.6965, 0.6765, 0.5041, 0.3204, 0.9392,\n",
       "         0.4133],\n",
       "        [0.6171, 0.8551, 0.8125, 0.7154, 0.6965, 0.6765, 0.5041, 0.3204, 0.9392,\n",
       "         0.4133],\n",
       "        [0.6171, 0.8551, 0.8125, 0.7154, 0.6965, 0.6765, 0.5041, 0.3204, 0.9392,\n",
       "         0.4133],\n",
       "        [0.2521, 0.0086, 0.8673, 0.5522, 0.8334, 0.0776, 0.0849, 0.6075, 0.6984,\n",
       "         0.4695],\n",
       "        [0.2480, 0.3000, 0.9896, 0.2821, 0.7421, 0.3497, 0.2687, 0.0339, 0.7433,\n",
       "         0.8214]], device='cuda:0')"
      ]
     },
     "execution_count": 30,
     "metadata": {},
     "output_type": "execute_result"
    }
   ],
   "source": [
    "stacked_tensor"
   ]
  },
  {
   "cell_type": "code",
   "execution_count": 31,
   "metadata": {},
   "outputs": [
    {
     "data": {
      "text/plain": [
       "tensor([34.3803, 33.4460, 33.6748, 34.1432, 33.7156, 32.5470, 34.0831, 34.4612,\n",
       "        32.8696, 34.0243], device='cuda:0')"
      ]
     },
     "execution_count": 31,
     "metadata": {},
     "output_type": "execute_result"
    }
   ],
   "source": [
    "error = torch.square((stacked_tensor - target) / target)\n",
    "error = error.sum(axis=0)\n",
    "error"
   ]
  },
  {
   "cell_type": "code",
   "execution_count": 36,
   "metadata": {},
   "outputs": [
    {
     "data": {
      "text/plain": [
       "tensor([537.7770, 544.6176, 542.9268, 539.4962, 542.6257, 551.3670, 539.9343,\n",
       "        537.1927, 548.9257, 540.3631], device='cuda:0')"
      ]
     },
     "execution_count": 36,
     "metadata": {},
     "output_type": "execute_result"
    }
   ],
   "source": [
    "torch_mape = 1000 * (1 / (1 + (error / df.size)))\n",
    "torch_mape"
   ]
  },
  {
   "cell_type": "code",
   "execution_count": 37,
   "metadata": {},
   "outputs": [
    {
     "data": {
      "text/plain": [
       "551.3670043945312"
      ]
     },
     "execution_count": 37,
     "metadata": {},
     "output_type": "execute_result"
    }
   ],
   "source": [
    "torch_mape.max().item()"
   ]
  },
  {
   "cell_type": "code",
   "execution_count": null,
   "metadata": {},
   "outputs": [],
   "source": []
  },
  {
   "cell_type": "code",
   "execution_count": null,
   "metadata": {},
   "outputs": [],
   "source": []
  },
  {
   "cell_type": "code",
   "execution_count": 56,
   "metadata": {},
   "outputs": [],
   "source": [
    "import pandas as pd\n",
    "\n",
    "df_size = 5000\n",
    "df = {'a': np.random.rand(df_size),\n",
    "        'b': np.random.rand(df_size),\n",
    "        'c': np.random.rand(df_size)}\n",
    "df['y']= 2*df['a'] + 3*df['b'] + 4*df['c'] + np.random.rand(df_size)\n",
    "\n",
    "df = pd.DataFrame(df)\n",
    "\n",
    "a = torch.from_numpy(df.a.values).float().to(device)\n",
    "b = torch.from_numpy(df.b.values).float().to(device)\n",
    "c = torch.from_numpy(df.c.values).float().to(device)\n",
    "target = torch.from_numpy(df.y.values).float().to(device)"
   ]
  },
  {
   "cell_type": "code",
   "execution_count": 57,
   "metadata": {},
   "outputs": [
    {
     "ename": "OutOfMemoryError",
     "evalue": "CUDA out of memory. Tried to allocate 574.00 MiB. GPU 0 has a total capacity of 1.94 GiB of which 403.94 MiB is free. Including non-PyTorch memory, this process has 1.16 GiB memory in use. Of the allocated memory 1.12 GiB is allocated by PyTorch, and 1.91 MiB is reserved by PyTorch but unallocated. If reserved but unallocated memory is large try setting PYTORCH_CUDA_ALLOC_CONF=expandable_segments:True to avoid fragmentation.  See documentation for Memory Management  (https://pytorch.org/docs/stable/notes/cuda.html#environment-variables)",
     "output_type": "error",
     "traceback": [
      "\u001b[0;31m---------------------------------------------------------------------------\u001b[0m",
      "\u001b[0;31mOutOfMemoryError\u001b[0m                          Traceback (most recent call last)",
      "Cell \u001b[0;32mIn[57], line 13\u001b[0m\n\u001b[1;32m     11\u001b[0m population \u001b[38;5;241m=\u001b[39m get_next_generation(population)\n\u001b[1;32m     12\u001b[0m evaluations \u001b[38;5;241m=\u001b[39m [\u001b[38;5;28meval\u001b[39m(\u001b[38;5;28mstr\u001b[39m(individual\u001b[38;5;241m.\u001b[39mgenome)) \u001b[38;5;28;01mfor\u001b[39;00m individual \u001b[38;5;129;01min\u001b[39;00m population\u001b[38;5;241m.\u001b[39mindividuals]\n\u001b[0;32m---> 13\u001b[0m tensor_list \u001b[38;5;241m=\u001b[39m \u001b[43mtorch\u001b[49m\u001b[38;5;241;43m.\u001b[39;49m\u001b[43mstack\u001b[49m\u001b[43m(\u001b[49m\u001b[43m[\u001b[49m\u001b[43mt\u001b[49m\u001b[43m \u001b[49m\u001b[38;5;28;43;01mfor\u001b[39;49;00m\u001b[43m \u001b[49m\u001b[43msublist\u001b[49m\u001b[43m \u001b[49m\u001b[38;5;129;43;01min\u001b[39;49;00m\u001b[43m \u001b[49m\u001b[43mevaluations\u001b[49m\u001b[43m \u001b[49m\u001b[38;5;28;43;01mfor\u001b[39;49;00m\u001b[43m \u001b[49m\u001b[43mt\u001b[49m\u001b[43m \u001b[49m\u001b[38;5;129;43;01min\u001b[39;49;00m\u001b[43m \u001b[49m\u001b[43msublist\u001b[49m\u001b[43m \u001b[49m\u001b[38;5;28;43;01mif\u001b[39;49;00m\u001b[43m \u001b[49m\u001b[38;5;28;43misinstance\u001b[39;49m\u001b[43m(\u001b[49m\u001b[43mt\u001b[49m\u001b[43m,\u001b[49m\u001b[43m \u001b[49m\u001b[43mtorch\u001b[49m\u001b[38;5;241;43m.\u001b[39;49m\u001b[43mTensor\u001b[49m\u001b[43m)\u001b[49m\u001b[43m]\u001b[49m\u001b[43m)\u001b[49m\n\u001b[1;32m     14\u001b[0m error \u001b[38;5;241m=\u001b[39m (torch\u001b[38;5;241m.\u001b[39msquare((tensor_list \u001b[38;5;241m-\u001b[39m target) \u001b[38;5;241m/\u001b[39m target))\u001b[38;5;241m.\u001b[39msum(axis\u001b[38;5;241m=\u001b[39m\u001b[38;5;241m0\u001b[39m)\n\u001b[1;32m     15\u001b[0m torch_mape \u001b[38;5;241m=\u001b[39m (\u001b[38;5;241m1000\u001b[39m \u001b[38;5;241m*\u001b[39m (\u001b[38;5;241m1\u001b[39m \u001b[38;5;241m/\u001b[39m (\u001b[38;5;241m1\u001b[39m \u001b[38;5;241m+\u001b[39m (error \u001b[38;5;241m/\u001b[39m df\u001b[38;5;241m.\u001b[39msize))))\u001b[38;5;241m.\u001b[39mmax()\u001b[38;5;241m.\u001b[39mitem()\n",
      "\u001b[0;31mOutOfMemoryError\u001b[0m: CUDA out of memory. Tried to allocate 574.00 MiB. GPU 0 has a total capacity of 1.94 GiB of which 403.94 MiB is free. Including non-PyTorch memory, this process has 1.16 GiB memory in use. Of the allocated memory 1.12 GiB is allocated by PyTorch, and 1.91 MiB is reserved by PyTorch but unallocated. If reserved but unallocated memory is large try setting PYTORCH_CUDA_ALLOC_CONF=expandable_segments:True to avoid fragmentation.  See documentation for Memory Management  (https://pytorch.org/docs/stable/notes/cuda.html#environment-variables)"
     ]
    }
   ],
   "source": [
    "population = Population()\n",
    "population.generate(100, pset, 200)\n",
    "\n",
    "def get_next_generation(population):\n",
    "    # user evaluates fitness\n",
    "    selected_population = random_select(population)\n",
    "    mutate(selected_population)\n",
    "    return selected_population\n",
    "\n",
    "for i in range(10000000):\n",
    "    population = get_next_generation(population)\n",
    "    evaluations = [eval(str(individual.genome)) for individual in population.individuals]\n",
    "    tensor_list = torch.stack([t for sublist in evaluations for t in sublist if isinstance(t, torch.Tensor)])\n",
    "    error = (torch.square((tensor_list - target) / target)).sum(axis=0)\n",
    "    torch_mape = (1000 * (1 / (1 + (error / df.size)))).max().item()\n",
    "    print(' ### START GLORIOUS EVOLUTION ###')\n",
    "    print(f'eval {i} :: ', torch_mape)\n",
    "    if torch_mape >= 1000: break"
   ]
  },
  {
   "cell_type": "code",
   "execution_count": 49,
   "metadata": {},
   "outputs": [
    {
     "name": "stdout",
     "output_type": "stream",
     "text": [
      "0 [a, add, b, c, a, b, c, b, c, c, b]\n",
      "1 [add, c, a, c, c, c, a, c, a, a, a]\n",
      "2 [a, mul, mul, b, add, c, b, c, c, c, b]\n",
      "3 [a, add, mul, add, b, a, b, b, c, a, b]\n",
      "4 [add, mul, mul, add, add, b, a, b, b, c, b]\n"
     ]
    }
   ],
   "source": [
    "population = get_next_generation(population)\n",
    "for i, individual in enumerate(population.individuals):\n",
    "    print(i, individual.genome)"
   ]
  },
  {
   "cell_type": "code",
   "execution_count": null,
   "metadata": {},
   "outputs": [],
   "source": []
  }
 ],
 "metadata": {
  "kernelspec": {
   "display_name": "Python 3",
   "language": "python",
   "name": "python3"
  },
  "language_info": {
   "codemirror_mode": {
    "name": "ipython",
    "version": 3
   },
   "file_extension": ".py",
   "mimetype": "text/x-python",
   "name": "python",
   "nbconvert_exporter": "python",
   "pygments_lexer": "ipython3",
   "version": "3.11.8"
  }
 },
 "nbformat": 4,
 "nbformat_minor": 2
}
